{
 "cells": [
  {
   "cell_type": "markdown",
   "id": "25d7736c-ba17-4aff-b6bb-66eba20fbf4e",
   "metadata": {
    "id": "25d7736c-ba17-4aff-b6bb-66eba20fbf4e"
   },
   "source": [
    "# Lab | Data Structuring and Combining Data"
   ]
  },
  {
   "cell_type": "markdown",
   "id": "a2cdfc70-44c8-478c-81e7-2bc43fdf4986",
   "metadata": {
    "id": "a2cdfc70-44c8-478c-81e7-2bc43fdf4986"
   },
   "source": [
    "## Challenge 1: Combining & Cleaning Data\n",
    "\n",
    "In this challenge, we will be working with the customer data from an insurance company, as we did in the two previous labs. The data can be found here:\n",
    "- https://raw.githubusercontent.com/data-bootcamp-v4/data/main/file1.csv\n",
    "\n",
    "But this time, we got new data, which can be found in the following 2 CSV files located at the links below.\n",
    "\n",
    "- https://raw.githubusercontent.com/data-bootcamp-v4/data/main/file2.csv\n",
    "- https://raw.githubusercontent.com/data-bootcamp-v4/data/main/file3.csv\n",
    "\n",
    "Note that you'll need to clean and format the new data.\n",
    "\n",
    "Observation:\n",
    "- One option is to first combine the three datasets and then apply the cleaning function to the new combined dataset\n",
    "- Another option would be to read the clean file you saved in the previous lab, and just clean the two new files and concatenate the three clean datasets"
   ]
  },
  {
   "cell_type": "code",
   "execution_count": null,
   "id": "492d06e3-92c7-4105-ac72-536db98d3244",
   "metadata": {
    "id": "492d06e3-92c7-4105-ac72-536db98d3244"
   },
   "outputs": [],
   "source": [
    "# Your code goes here\n",
    "\n",
    "import pandas as pd\n",
    "import numpy as np"
   ]
  },
  {
   "cell_type": "code",
   "execution_count": 192,
   "id": "40a78d9e",
   "metadata": {},
   "outputs": [],
   "source": [
    "# import csvs\n",
    "\n",
    "url1 = 'https://raw.githubusercontent.com/data-bootcamp-v4/data/main/file1.csv'\n",
    "url2 = 'https://raw.githubusercontent.com/data-bootcamp-v4/data/main/file2.csv'\n",
    "url3 = 'https://raw.githubusercontent.com/data-bootcamp-v4/data/main/file3.csv'\n",
    "\n",
    "df1 = pd.read_csv(url1)\n",
    "df2 = pd.read_csv(url2)\n",
    "df3 = pd.read_csv(url3)"
   ]
  },
  {
   "cell_type": "code",
   "execution_count": 193,
   "id": "f9a41ed8",
   "metadata": {},
   "outputs": [],
   "source": [
    "# columns cleaning 1\n",
    "\n",
    "df1.columns = [col.strip().lower().replace(\" \", \"_\") for col in df1.columns]\n",
    "df2.columns = [col.strip().lower().replace(\" \", \"_\") for col in df2.columns]\n",
    "df3.columns = [col.strip().lower().replace(\" \", \"_\") for col in df3.columns]\n",
    "\n",
    "\n"
   ]
  },
  {
   "cell_type": "code",
   "execution_count": 194,
   "id": "31902757",
   "metadata": {},
   "outputs": [],
   "source": [
    "# use the rename because otherwise replace() can distort other columns where it finds 'st' in the strings..\n",
    "\n",
    "df1.rename(columns = {df1.columns[1]: 'state'}, inplace=True)\n",
    "df2.rename(columns = {df2.columns[1]: 'state'}, inplace=True)"
   ]
  },
  {
   "cell_type": "code",
   "execution_count": 195,
   "id": "da6eda3a",
   "metadata": {},
   "outputs": [],
   "source": [
    "# concat all the files \n",
    "\n",
    "df = pd.concat([df1, df2, df3], join = 'outer', axis = 0, ignore_index=True)\n"
   ]
  },
  {
   "cell_type": "code",
   "execution_count": 196,
   "id": "eaa7bdf8",
   "metadata": {},
   "outputs": [],
   "source": [
    "# cleaning null values \n",
    "\n",
    "# this will give me the total number of unique null values in each row.. I can use thresh to drop null values. \n",
    "\n",
    "df.isna().sum(axis=1).unique()\n",
    "\n",
    "df.dropna(thresh=2, inplace=True)\n"
   ]
  },
  {
   "cell_type": "code",
   "execution_count": 211,
   "id": "222c84c8",
   "metadata": {},
   "outputs": [
    {
     "name": "stdout",
     "output_type": "stream",
     "text": [
      "<class 'pandas.core.frame.DataFrame'>\n",
      "Index: 9137 entries, 0 to 12073\n",
      "Data columns (total 11 columns):\n",
      " #   Column                     Non-Null Count  Dtype  \n",
      "---  ------                     --------------  -----  \n",
      " 0   customer                   9137 non-null   object \n",
      " 1   state                      9137 non-null   object \n",
      " 2   gender                     9137 non-null   object \n",
      " 3   education                  9137 non-null   object \n",
      " 4   customer_lifetime_value    9137 non-null   object \n",
      " 5   income                     9137 non-null   float64\n",
      " 6   monthly_premium_auto       9137 non-null   float64\n",
      " 7   number_of_open_complaints  9137 non-null   object \n",
      " 8   policy_type                9137 non-null   object \n",
      " 9   vehicle_class              9137 non-null   object \n",
      " 10  total_claim_amount         9137 non-null   float64\n",
      "dtypes: float64(3), object(8)\n",
      "memory usage: 856.6+ KB\n"
     ]
    }
   ],
   "source": [
    "df.info()"
   ]
  },
  {
   "cell_type": "code",
   "execution_count": 197,
   "id": "3823844b",
   "metadata": {},
   "outputs": [
    {
     "name": "stderr",
     "output_type": "stream",
     "text": [
      "C:\\Users\\rergu\\AppData\\Local\\Temp\\ipykernel_25284\\3797211875.py:3: FutureWarning: A value is trying to be set on a copy of a DataFrame or Series through chained assignment using an inplace method.\n",
      "The behavior will change in pandas 3.0. This inplace method will never work because the intermediate object on which we are setting values always behaves as a copy.\n",
      "\n",
      "For example, when doing 'df[col].method(value, inplace=True)', try using 'df.method({col: value}, inplace=True)' or df[col] = df[col].method(value) instead, to perform the operation inplace on the original object.\n",
      "\n",
      "\n",
      "  df['customer_lifetime_value'].fillna(0, inplace=True)\n"
     ]
    }
   ],
   "source": [
    "# replace CLV NA with 0\n",
    "\n",
    "df['customer_lifetime_value'].fillna(0, inplace=True)"
   ]
  },
  {
   "cell_type": "code",
   "execution_count": 198,
   "id": "8bca0f8c",
   "metadata": {},
   "outputs": [],
   "source": [
    "# replace Gender NA with Female\n",
    "\n",
    "df.fillna('F', inplace=True)"
   ]
  },
  {
   "cell_type": "code",
   "execution_count": 202,
   "id": "14fbed5a",
   "metadata": {},
   "outputs": [
    {
     "data": {
      "text/plain": [
       "gender\n",
       "F    0.517566\n",
       "M    0.482434\n",
       "Name: proportion, dtype: float64"
      ]
     },
     "execution_count": 202,
     "metadata": {},
     "output_type": "execute_result"
    }
   ],
   "source": [
    "# this is to see unique value counts\n",
    "\n",
    "df['gender'].value_counts()\n",
    "\n",
    "# if I use normalize I will get % of it;\n",
    "\n",
    "df['gender'].value_counts(normalize=True)"
   ]
  },
  {
   "cell_type": "code",
   "execution_count": 203,
   "id": "f9d2f0a0",
   "metadata": {},
   "outputs": [
    {
     "data": {
      "text/plain": [
       "state\n",
       "California    3152\n",
       "Oregon        2601\n",
       "Arizona       1704\n",
       "Nevada         882\n",
       "Washington     798\n",
       "Name: count, dtype: int64"
      ]
     },
     "execution_count": 203,
     "metadata": {},
     "output_type": "execute_result"
    }
   ],
   "source": [
    "# this is to see unique value counts\n",
    "\n",
    "df['state'].value_counts()\n",
    "\n"
   ]
  },
  {
   "cell_type": "code",
   "execution_count": 200,
   "id": "32d7cf10",
   "metadata": {},
   "outputs": [
    {
     "name": "stderr",
     "output_type": "stream",
     "text": [
      "C:\\Users\\rergu\\AppData\\Local\\Temp\\ipykernel_25284\\822702178.py:3: FutureWarning: A value is trying to be set on a copy of a DataFrame or Series through chained assignment using an inplace method.\n",
      "The behavior will change in pandas 3.0. This inplace method will never work because the intermediate object on which we are setting values always behaves as a copy.\n",
      "\n",
      "For example, when doing 'df[col].method(value, inplace=True)', try using 'df.method({col: value}, inplace=True)' or df[col] = df[col].method(value) instead, to perform the operation inplace on the original object.\n",
      "\n",
      "\n",
      "  df['state'].replace({'AZ':'Arizona', 'WA': 'Washington', 'Cali': 'California'}, inplace=True)\n"
     ]
    }
   ],
   "source": [
    "# clean values on the rows\n",
    "\n",
    "df['state'].replace({'AZ':'Arizona', 'WA': 'Washington', 'Cali': 'California'}, inplace=True)"
   ]
  },
  {
   "cell_type": "code",
   "execution_count": 201,
   "id": "382bb188",
   "metadata": {},
   "outputs": [],
   "source": [
    "# clean values on the rows\n",
    "\n",
    "#gender rows cleaning\n",
    "\n",
    "df['gender'] = df['gender'].map({'F':'F', 'M':'M', 'Male': 'M', 'female': 'F', 'Femal': 'F'}, na_action='ignore')"
   ]
  },
  {
   "cell_type": "code",
   "execution_count": 204,
   "id": "b3c2c7a3",
   "metadata": {},
   "outputs": [],
   "source": [
    "# clean values on the rows\n",
    "\n",
    "df['education'] = df['education'].replace({'Bachelors': 'Bachelor'})"
   ]
  },
  {
   "cell_type": "code",
   "execution_count": 205,
   "id": "0a338464",
   "metadata": {},
   "outputs": [],
   "source": [
    "# clean values on the rows\n",
    "\n",
    "df['vehicle_class'] = df['vehicle_class'].replace({'Luxury SUV': 'Luxury', 'Sports Car': 'Luxury', 'Luxury Car': 'Luxury'})"
   ]
  },
  {
   "cell_type": "code",
   "execution_count": null,
   "id": "1fd0071f",
   "metadata": {},
   "outputs": [],
   "source": [
    "# clean values on the rows clv, astype str then strip will not make numbers NaN\n",
    "\n",
    "df['customer_lifetime_value'] = df['customer_lifetime_value'].astype(str).str.strip(\"%\")\n",
    "\n",
    "# clean dtypes clv convert to float\n",
    "df['customer_lifetime_value'] = df['customer_lifetime_value'].astype(float)\n"
   ]
  },
  {
   "cell_type": "code",
   "execution_count": null,
   "id": "e9b85db0",
   "metadata": {},
   "outputs": [
    {
     "data": {
      "text/plain": [
       "array(['1/0/00', '1/2/00', '1/1/00', '1/3/00', '1/5/00', '1/4/00', '0',\n",
       "       '2', '3', '1', '5', '4'], dtype=object)"
      ]
     },
     "execution_count": 245,
     "metadata": {},
     "output_type": "execute_result"
    }
   ],
   "source": [
    "# compliants to clean the middle number\n",
    "\n",
    "df['number_of_open_complaints'] = df['number_of_open_complaints'].apply(lambda x: str(x))\n",
    "\n",
    "df['number_of_open_complaints'] = df['number_of_open_complaints'].apply(lambda x: str(x).strip().split(\"/\")[1] if len(x)>1 else x)\n",
    "\n",
    "df['number_of_open_complaints'] = df['number_of_open_complaints'].apply(lambda x: float(x))\n"
   ]
  },
  {
   "cell_type": "code",
   "execution_count": null,
   "id": "fb5b89d8",
   "metadata": {},
   "outputs": [
    {
     "name": "stdout",
     "output_type": "stream",
     "text": [
      "<class 'pandas.core.frame.DataFrame'>\n",
      "Index: 9137 entries, 0 to 12073\n",
      "Data columns (total 11 columns):\n",
      " #   Column                     Non-Null Count  Dtype  \n",
      "---  ------                     --------------  -----  \n",
      " 0   customer                   9137 non-null   object \n",
      " 1   state                      9137 non-null   object \n",
      " 2   gender                     9137 non-null   object \n",
      " 3   education                  9137 non-null   object \n",
      " 4   customer_lifetime_value    9137 non-null   float64\n",
      " 5   income                     9137 non-null   float64\n",
      " 6   monthly_premium_auto       9137 non-null   float64\n",
      " 7   number_of_open_complaints  9137 non-null   float64\n",
      " 8   policy_type                9137 non-null   object \n",
      " 9   vehicle_class              9137 non-null   object \n",
      " 10  total_claim_amount         9137 non-null   float64\n",
      "dtypes: float64(5), object(6)\n",
      "memory usage: 856.6+ KB\n"
     ]
    }
   ],
   "source": [
    "df.info()"
   ]
  },
  {
   "cell_type": "code",
   "execution_count": 263,
   "id": "dc8742af",
   "metadata": {},
   "outputs": [],
   "source": [
    "df.reset_index(drop=1, inplace=True)"
   ]
  },
  {
   "cell_type": "code",
   "execution_count": 264,
   "id": "a81702f1",
   "metadata": {},
   "outputs": [],
   "source": [
    "df.to_csv('df_cleaned', index = False)"
   ]
  },
  {
   "cell_type": "markdown",
   "id": "31b8a9e7-7db9-4604-991b-ef6771603e57",
   "metadata": {
    "id": "31b8a9e7-7db9-4604-991b-ef6771603e57"
   },
   "source": [
    "# Challenge 2: Structuring Data"
   ]
  },
  {
   "cell_type": "markdown",
   "id": "a877fd6d-7a0c-46d2-9657-f25036e4ca4b",
   "metadata": {
    "id": "a877fd6d-7a0c-46d2-9657-f25036e4ca4b"
   },
   "source": [
    "In this challenge, we will continue to work with customer data from an insurance company, but we will use a dataset with more columns, called marketing_customer_analysis.csv, which can be found at the following link:\n",
    "\n",
    "https://raw.githubusercontent.com/data-bootcamp-v4/data/main/marketing_customer_analysis_clean.csv\n",
    "\n",
    "This dataset contains information such as customer demographics, policy details, vehicle information, and the customer's response to the last marketing campaign. Our goal is to explore and analyze this data by performing data cleaning, formatting, and structuring."
   ]
  },
  {
   "cell_type": "code",
   "execution_count": 266,
   "id": "aa10d9b0-1c27-4d3f-a8e4-db6ab73bfd26",
   "metadata": {
    "id": "aa10d9b0-1c27-4d3f-a8e4-db6ab73bfd26"
   },
   "outputs": [
    {
     "data": {
      "text/html": [
       "<div>\n",
       "<style scoped>\n",
       "    .dataframe tbody tr th:only-of-type {\n",
       "        vertical-align: middle;\n",
       "    }\n",
       "\n",
       "    .dataframe tbody tr th {\n",
       "        vertical-align: top;\n",
       "    }\n",
       "\n",
       "    .dataframe thead th {\n",
       "        text-align: right;\n",
       "    }\n",
       "</style>\n",
       "<table border=\"1\" class=\"dataframe\">\n",
       "  <thead>\n",
       "    <tr style=\"text-align: right;\">\n",
       "      <th></th>\n",
       "      <th>unnamed:_0</th>\n",
       "      <th>customer</th>\n",
       "      <th>state</th>\n",
       "      <th>customer_lifetime_value</th>\n",
       "      <th>response</th>\n",
       "      <th>coverage</th>\n",
       "      <th>education</th>\n",
       "      <th>effective_to_date</th>\n",
       "      <th>employmentstatus</th>\n",
       "      <th>gender</th>\n",
       "      <th>...</th>\n",
       "      <th>number_of_policies</th>\n",
       "      <th>policy_type</th>\n",
       "      <th>policy</th>\n",
       "      <th>renew_offer_type</th>\n",
       "      <th>sales_channel</th>\n",
       "      <th>total_claim_amount</th>\n",
       "      <th>vehicle_class</th>\n",
       "      <th>vehicle_size</th>\n",
       "      <th>vehicle_type</th>\n",
       "      <th>month</th>\n",
       "    </tr>\n",
       "  </thead>\n",
       "  <tbody>\n",
       "    <tr>\n",
       "      <th>746</th>\n",
       "      <td>746</td>\n",
       "      <td>CT96082</td>\n",
       "      <td>Oregon</td>\n",
       "      <td>4711.080198</td>\n",
       "      <td>No</td>\n",
       "      <td>Basic</td>\n",
       "      <td>Bachelor</td>\n",
       "      <td>2011-01-05</td>\n",
       "      <td>Disabled</td>\n",
       "      <td>F</td>\n",
       "      <td>...</td>\n",
       "      <td>6</td>\n",
       "      <td>Corporate Auto</td>\n",
       "      <td>Corporate L3</td>\n",
       "      <td>Offer1</td>\n",
       "      <td>Call Center</td>\n",
       "      <td>49.364254</td>\n",
       "      <td>Two-Door Car</td>\n",
       "      <td>Medsize</td>\n",
       "      <td>A</td>\n",
       "      <td>1</td>\n",
       "    </tr>\n",
       "    <tr>\n",
       "      <th>3831</th>\n",
       "      <td>3831</td>\n",
       "      <td>PX31667</td>\n",
       "      <td>Washington</td>\n",
       "      <td>2952.360309</td>\n",
       "      <td>No</td>\n",
       "      <td>Basic</td>\n",
       "      <td>High School or Below</td>\n",
       "      <td>2011-02-03</td>\n",
       "      <td>Employed</td>\n",
       "      <td>M</td>\n",
       "      <td>...</td>\n",
       "      <td>1</td>\n",
       "      <td>Personal Auto</td>\n",
       "      <td>Personal L3</td>\n",
       "      <td>Offer1</td>\n",
       "      <td>Branch</td>\n",
       "      <td>355.200000</td>\n",
       "      <td>Two-Door Car</td>\n",
       "      <td>Small</td>\n",
       "      <td>A</td>\n",
       "      <td>2</td>\n",
       "    </tr>\n",
       "    <tr>\n",
       "      <th>1891</th>\n",
       "      <td>1891</td>\n",
       "      <td>FU17577</td>\n",
       "      <td>Oregon</td>\n",
       "      <td>3788.814643</td>\n",
       "      <td>No</td>\n",
       "      <td>Basic</td>\n",
       "      <td>High School or Below</td>\n",
       "      <td>2011-01-10</td>\n",
       "      <td>Unemployed</td>\n",
       "      <td>F</td>\n",
       "      <td>...</td>\n",
       "      <td>1</td>\n",
       "      <td>Personal Auto</td>\n",
       "      <td>Personal L3</td>\n",
       "      <td>Offer1</td>\n",
       "      <td>Agent</td>\n",
       "      <td>763.200000</td>\n",
       "      <td>SUV</td>\n",
       "      <td>Medsize</td>\n",
       "      <td>A</td>\n",
       "      <td>1</td>\n",
       "    </tr>\n",
       "    <tr>\n",
       "      <th>7489</th>\n",
       "      <td>7489</td>\n",
       "      <td>RS59102</td>\n",
       "      <td>California</td>\n",
       "      <td>12885.786760</td>\n",
       "      <td>No</td>\n",
       "      <td>Basic</td>\n",
       "      <td>College</td>\n",
       "      <td>2011-02-12</td>\n",
       "      <td>Employed</td>\n",
       "      <td>M</td>\n",
       "      <td>...</td>\n",
       "      <td>2</td>\n",
       "      <td>Personal Auto</td>\n",
       "      <td>Personal L3</td>\n",
       "      <td>Offer1</td>\n",
       "      <td>Agent</td>\n",
       "      <td>528.000000</td>\n",
       "      <td>Sports Car</td>\n",
       "      <td>Medsize</td>\n",
       "      <td>A</td>\n",
       "      <td>2</td>\n",
       "    </tr>\n",
       "    <tr>\n",
       "      <th>1757</th>\n",
       "      <td>1757</td>\n",
       "      <td>AJ58038</td>\n",
       "      <td>California</td>\n",
       "      <td>2396.219292</td>\n",
       "      <td>Yes</td>\n",
       "      <td>Basic</td>\n",
       "      <td>Bachelor</td>\n",
       "      <td>2011-01-10</td>\n",
       "      <td>Unemployed</td>\n",
       "      <td>F</td>\n",
       "      <td>...</td>\n",
       "      <td>1</td>\n",
       "      <td>Corporate Auto</td>\n",
       "      <td>Corporate L1</td>\n",
       "      <td>Offer2</td>\n",
       "      <td>Call Center</td>\n",
       "      <td>433.160284</td>\n",
       "      <td>Four-Door Car</td>\n",
       "      <td>Large</td>\n",
       "      <td>A</td>\n",
       "      <td>1</td>\n",
       "    </tr>\n",
       "  </tbody>\n",
       "</table>\n",
       "<p>5 rows × 27 columns</p>\n",
       "</div>"
      ],
      "text/plain": [
       "      unnamed:_0 customer       state  customer_lifetime_value response  \\\n",
       "746          746  CT96082      Oregon              4711.080198       No   \n",
       "3831        3831  PX31667  Washington              2952.360309       No   \n",
       "1891        1891  FU17577      Oregon              3788.814643       No   \n",
       "7489        7489  RS59102  California             12885.786760       No   \n",
       "1757        1757  AJ58038  California              2396.219292      Yes   \n",
       "\n",
       "     coverage             education effective_to_date employmentstatus gender  \\\n",
       "746     Basic              Bachelor        2011-01-05         Disabled      F   \n",
       "3831    Basic  High School or Below        2011-02-03         Employed      M   \n",
       "1891    Basic  High School or Below        2011-01-10       Unemployed      F   \n",
       "7489    Basic               College        2011-02-12         Employed      M   \n",
       "1757    Basic              Bachelor        2011-01-10       Unemployed      F   \n",
       "\n",
       "      ...  number_of_policies     policy_type        policy  renew_offer_type  \\\n",
       "746   ...                   6  Corporate Auto  Corporate L3            Offer1   \n",
       "3831  ...                   1   Personal Auto   Personal L3            Offer1   \n",
       "1891  ...                   1   Personal Auto   Personal L3            Offer1   \n",
       "7489  ...                   2   Personal Auto   Personal L3            Offer1   \n",
       "1757  ...                   1  Corporate Auto  Corporate L1            Offer2   \n",
       "\n",
       "      sales_channel  total_claim_amount  vehicle_class  vehicle_size  \\\n",
       "746     Call Center           49.364254   Two-Door Car       Medsize   \n",
       "3831         Branch          355.200000   Two-Door Car         Small   \n",
       "1891          Agent          763.200000            SUV       Medsize   \n",
       "7489          Agent          528.000000     Sports Car       Medsize   \n",
       "1757    Call Center          433.160284  Four-Door Car         Large   \n",
       "\n",
       "     vehicle_type month  \n",
       "746             A     1  \n",
       "3831            A     2  \n",
       "1891            A     1  \n",
       "7489            A     2  \n",
       "1757            A     1  \n",
       "\n",
       "[5 rows x 27 columns]"
      ]
     },
     "execution_count": 266,
     "metadata": {},
     "output_type": "execute_result"
    }
   ],
   "source": [
    "# load csv\n",
    "\n",
    "url= 'https://raw.githubusercontent.com/data-bootcamp-v4/data/main/marketing_customer_analysis_clean.csv'\n",
    "\n",
    "df = pd.read_csv(url)\n",
    "\n",
    "df.sample(5)"
   ]
  },
  {
   "cell_type": "code",
   "execution_count": 277,
   "id": "693ced5c",
   "metadata": {},
   "outputs": [],
   "source": [
    "df.drop(columns=['unnamed:_0'], inplace=True)"
   ]
  },
  {
   "cell_type": "code",
   "execution_count": 278,
   "id": "d669ae09",
   "metadata": {},
   "outputs": [
    {
     "data": {
      "text/plain": [
       "Index(['customer', 'state', 'customer_lifetime_value', 'response', 'coverage',\n",
       "       'education', 'effective_to_date', 'employmentstatus', 'gender',\n",
       "       'income', 'location_code', 'marital_status', 'monthly_premium_auto',\n",
       "       'months_since_last_claim', 'months_since_policy_inception',\n",
       "       'number_of_open_complaints', 'number_of_policies', 'policy_type',\n",
       "       'policy', 'renew_offer_type', 'sales_channel', 'total_claim_amount',\n",
       "       'vehicle_class', 'vehicle_size', 'vehicle_type', 'month'],\n",
       "      dtype='object')"
      ]
     },
     "execution_count": 278,
     "metadata": {},
     "output_type": "execute_result"
    }
   ],
   "source": [
    "df.columns"
   ]
  },
  {
   "cell_type": "code",
   "execution_count": 279,
   "id": "8de14192",
   "metadata": {},
   "outputs": [
    {
     "name": "stdout",
     "output_type": "stream",
     "text": [
      "<class 'pandas.core.frame.DataFrame'>\n",
      "RangeIndex: 10910 entries, 0 to 10909\n",
      "Data columns (total 26 columns):\n",
      " #   Column                         Non-Null Count  Dtype  \n",
      "---  ------                         --------------  -----  \n",
      " 0   customer                       10910 non-null  object \n",
      " 1   state                          10910 non-null  object \n",
      " 2   customer_lifetime_value        10910 non-null  float64\n",
      " 3   response                       10910 non-null  object \n",
      " 4   coverage                       10910 non-null  object \n",
      " 5   education                      10910 non-null  object \n",
      " 6   effective_to_date              10910 non-null  object \n",
      " 7   employmentstatus               10910 non-null  object \n",
      " 8   gender                         10910 non-null  object \n",
      " 9   income                         10910 non-null  int64  \n",
      " 10  location_code                  10910 non-null  object \n",
      " 11  marital_status                 10910 non-null  object \n",
      " 12  monthly_premium_auto           10910 non-null  int64  \n",
      " 13  months_since_last_claim        10910 non-null  float64\n",
      " 14  months_since_policy_inception  10910 non-null  int64  \n",
      " 15  number_of_open_complaints      10910 non-null  float64\n",
      " 16  number_of_policies             10910 non-null  int64  \n",
      " 17  policy_type                    10910 non-null  object \n",
      " 18  policy                         10910 non-null  object \n",
      " 19  renew_offer_type               10910 non-null  object \n",
      " 20  sales_channel                  10910 non-null  object \n",
      " 21  total_claim_amount             10910 non-null  float64\n",
      " 22  vehicle_class                  10910 non-null  object \n",
      " 23  vehicle_size                   10910 non-null  object \n",
      " 24  vehicle_type                   10910 non-null  object \n",
      " 25  month                          10910 non-null  int64  \n",
      "dtypes: float64(4), int64(5), object(17)\n",
      "memory usage: 2.2+ MB\n"
     ]
    }
   ],
   "source": [
    "df.info()"
   ]
  },
  {
   "cell_type": "code",
   "execution_count": 270,
   "id": "29b7eb1c",
   "metadata": {},
   "outputs": [
    {
     "data": {
      "text/plain": [
       "unnamed:_0                       False\n",
       "customer                         False\n",
       "state                            False\n",
       "customer_lifetime_value          False\n",
       "response                         False\n",
       "coverage                         False\n",
       "education                        False\n",
       "effective_to_date                False\n",
       "employmentstatus                 False\n",
       "gender                           False\n",
       "income                           False\n",
       "location_code                    False\n",
       "marital_status                   False\n",
       "monthly_premium_auto             False\n",
       "months_since_last_claim          False\n",
       "months_since_policy_inception    False\n",
       "number_of_open_complaints        False\n",
       "number_of_policies               False\n",
       "policy_type                      False\n",
       "policy                           False\n",
       "renew_offer_type                 False\n",
       "sales_channel                    False\n",
       "total_claim_amount               False\n",
       "vehicle_class                    False\n",
       "vehicle_size                     False\n",
       "vehicle_type                     False\n",
       "month                            False\n",
       "dtype: bool"
      ]
     },
     "execution_count": 270,
     "metadata": {},
     "output_type": "execute_result"
    }
   ],
   "source": [
    "df.isna().any()"
   ]
  },
  {
   "cell_type": "code",
   "execution_count": 280,
   "id": "96100522",
   "metadata": {},
   "outputs": [
    {
     "data": {
      "text/html": [
       "<div>\n",
       "<style scoped>\n",
       "    .dataframe tbody tr th:only-of-type {\n",
       "        vertical-align: middle;\n",
       "    }\n",
       "\n",
       "    .dataframe tbody tr th {\n",
       "        vertical-align: top;\n",
       "    }\n",
       "\n",
       "    .dataframe thead th {\n",
       "        text-align: right;\n",
       "    }\n",
       "</style>\n",
       "<table border=\"1\" class=\"dataframe\">\n",
       "  <thead>\n",
       "    <tr style=\"text-align: right;\">\n",
       "      <th></th>\n",
       "      <th>customer_lifetime_value</th>\n",
       "      <th>income</th>\n",
       "      <th>monthly_premium_auto</th>\n",
       "      <th>months_since_last_claim</th>\n",
       "      <th>months_since_policy_inception</th>\n",
       "      <th>number_of_open_complaints</th>\n",
       "      <th>number_of_policies</th>\n",
       "      <th>total_claim_amount</th>\n",
       "      <th>month</th>\n",
       "    </tr>\n",
       "  </thead>\n",
       "  <tbody>\n",
       "    <tr>\n",
       "      <th>count</th>\n",
       "      <td>10910.000000</td>\n",
       "      <td>10910.000000</td>\n",
       "      <td>10910.000000</td>\n",
       "      <td>10910.000000</td>\n",
       "      <td>10910.000000</td>\n",
       "      <td>10910.000000</td>\n",
       "      <td>10910.000000</td>\n",
       "      <td>10910.000000</td>\n",
       "      <td>10910.000000</td>\n",
       "    </tr>\n",
       "    <tr>\n",
       "      <th>mean</th>\n",
       "      <td>8018.241094</td>\n",
       "      <td>37536.284785</td>\n",
       "      <td>93.196059</td>\n",
       "      <td>15.149071</td>\n",
       "      <td>48.091934</td>\n",
       "      <td>0.384256</td>\n",
       "      <td>2.979193</td>\n",
       "      <td>434.888330</td>\n",
       "      <td>1.466728</td>\n",
       "    </tr>\n",
       "    <tr>\n",
       "      <th>std</th>\n",
       "      <td>6885.081434</td>\n",
       "      <td>30359.195670</td>\n",
       "      <td>34.442532</td>\n",
       "      <td>9.783520</td>\n",
       "      <td>27.940675</td>\n",
       "      <td>0.885589</td>\n",
       "      <td>2.399359</td>\n",
       "      <td>292.180556</td>\n",
       "      <td>0.498915</td>\n",
       "    </tr>\n",
       "    <tr>\n",
       "      <th>min</th>\n",
       "      <td>1898.007675</td>\n",
       "      <td>0.000000</td>\n",
       "      <td>61.000000</td>\n",
       "      <td>0.000000</td>\n",
       "      <td>0.000000</td>\n",
       "      <td>0.000000</td>\n",
       "      <td>1.000000</td>\n",
       "      <td>0.099007</td>\n",
       "      <td>1.000000</td>\n",
       "    </tr>\n",
       "    <tr>\n",
       "      <th>25%</th>\n",
       "      <td>4014.453113</td>\n",
       "      <td>0.000000</td>\n",
       "      <td>68.000000</td>\n",
       "      <td>7.000000</td>\n",
       "      <td>24.000000</td>\n",
       "      <td>0.000000</td>\n",
       "      <td>1.000000</td>\n",
       "      <td>271.082527</td>\n",
       "      <td>1.000000</td>\n",
       "    </tr>\n",
       "    <tr>\n",
       "      <th>50%</th>\n",
       "      <td>5771.147235</td>\n",
       "      <td>33813.500000</td>\n",
       "      <td>83.000000</td>\n",
       "      <td>15.000000</td>\n",
       "      <td>48.000000</td>\n",
       "      <td>0.000000</td>\n",
       "      <td>2.000000</td>\n",
       "      <td>382.564630</td>\n",
       "      <td>1.000000</td>\n",
       "    </tr>\n",
       "    <tr>\n",
       "      <th>75%</th>\n",
       "      <td>8992.779137</td>\n",
       "      <td>62250.750000</td>\n",
       "      <td>109.000000</td>\n",
       "      <td>23.000000</td>\n",
       "      <td>71.000000</td>\n",
       "      <td>0.384256</td>\n",
       "      <td>4.000000</td>\n",
       "      <td>547.200000</td>\n",
       "      <td>2.000000</td>\n",
       "    </tr>\n",
       "    <tr>\n",
       "      <th>max</th>\n",
       "      <td>83325.381190</td>\n",
       "      <td>99981.000000</td>\n",
       "      <td>298.000000</td>\n",
       "      <td>35.000000</td>\n",
       "      <td>99.000000</td>\n",
       "      <td>5.000000</td>\n",
       "      <td>9.000000</td>\n",
       "      <td>2893.239678</td>\n",
       "      <td>2.000000</td>\n",
       "    </tr>\n",
       "  </tbody>\n",
       "</table>\n",
       "</div>"
      ],
      "text/plain": [
       "       customer_lifetime_value        income  monthly_premium_auto  \\\n",
       "count             10910.000000  10910.000000          10910.000000   \n",
       "mean               8018.241094  37536.284785             93.196059   \n",
       "std                6885.081434  30359.195670             34.442532   \n",
       "min                1898.007675      0.000000             61.000000   \n",
       "25%                4014.453113      0.000000             68.000000   \n",
       "50%                5771.147235  33813.500000             83.000000   \n",
       "75%                8992.779137  62250.750000            109.000000   \n",
       "max               83325.381190  99981.000000            298.000000   \n",
       "\n",
       "       months_since_last_claim  months_since_policy_inception  \\\n",
       "count             10910.000000                   10910.000000   \n",
       "mean                 15.149071                      48.091934   \n",
       "std                   9.783520                      27.940675   \n",
       "min                   0.000000                       0.000000   \n",
       "25%                   7.000000                      24.000000   \n",
       "50%                  15.000000                      48.000000   \n",
       "75%                  23.000000                      71.000000   \n",
       "max                  35.000000                      99.000000   \n",
       "\n",
       "       number_of_open_complaints  number_of_policies  total_claim_amount  \\\n",
       "count               10910.000000        10910.000000        10910.000000   \n",
       "mean                    0.384256            2.979193          434.888330   \n",
       "std                     0.885589            2.399359          292.180556   \n",
       "min                     0.000000            1.000000            0.099007   \n",
       "25%                     0.000000            1.000000          271.082527   \n",
       "50%                     0.000000            2.000000          382.564630   \n",
       "75%                     0.384256            4.000000          547.200000   \n",
       "max                     5.000000            9.000000         2893.239678   \n",
       "\n",
       "              month  \n",
       "count  10910.000000  \n",
       "mean       1.466728  \n",
       "std        0.498915  \n",
       "min        1.000000  \n",
       "25%        1.000000  \n",
       "50%        1.000000  \n",
       "75%        2.000000  \n",
       "max        2.000000  "
      ]
     },
     "execution_count": 280,
     "metadata": {},
     "output_type": "execute_result"
    }
   ],
   "source": [
    "df.describe()"
   ]
  },
  {
   "cell_type": "code",
   "execution_count": 273,
   "id": "10d17022",
   "metadata": {},
   "outputs": [
    {
     "data": {
      "text/plain": [
       "array(['Agent', 'Call Center', 'Branch', 'Web'], dtype=object)"
      ]
     },
     "execution_count": 273,
     "metadata": {},
     "output_type": "execute_result"
    }
   ],
   "source": [
    "df['sales_channel'].unique()"
   ]
  },
  {
   "cell_type": "markdown",
   "id": "df35fd0d-513e-4e77-867e-429da10a9cc7",
   "metadata": {
    "id": "df35fd0d-513e-4e77-867e-429da10a9cc7"
   },
   "source": [
    "1. You work at the marketing department and you want to know which sales channel brought the most sales in terms of total revenue. Using pivot, create a summary table showing the total revenue for each sales channel (branch, call center, web, and mail).\n",
    "Round the total revenue to 2 decimal points.  Analyze the resulting table to draw insights."
   ]
  },
  {
   "cell_type": "code",
   "execution_count": 281,
   "id": "bfc103da",
   "metadata": {},
   "outputs": [],
   "source": [
    "pivot_df_chanels = df.pivot_table(index='sales_channel', values=['income'], aggfunc=\"sum\")"
   ]
  },
  {
   "cell_type": "code",
   "execution_count": 284,
   "id": "91cf30e2",
   "metadata": {},
   "outputs": [
    {
     "data": {
      "text/html": [
       "<div>\n",
       "<style scoped>\n",
       "    .dataframe tbody tr th:only-of-type {\n",
       "        vertical-align: middle;\n",
       "    }\n",
       "\n",
       "    .dataframe tbody tr th {\n",
       "        vertical-align: top;\n",
       "    }\n",
       "\n",
       "    .dataframe thead th {\n",
       "        text-align: right;\n",
       "    }\n",
       "</style>\n",
       "<table border=\"1\" class=\"dataframe\">\n",
       "  <thead>\n",
       "    <tr style=\"text-align: right;\">\n",
       "      <th></th>\n",
       "      <th>income</th>\n",
       "    </tr>\n",
       "    <tr>\n",
       "      <th>sales_channel</th>\n",
       "      <th></th>\n",
       "    </tr>\n",
       "  </thead>\n",
       "  <tbody>\n",
       "    <tr>\n",
       "      <th>Agent</th>\n",
       "      <td>152490152</td>\n",
       "    </tr>\n",
       "    <tr>\n",
       "      <th>Branch</th>\n",
       "      <td>113775608</td>\n",
       "    </tr>\n",
       "    <tr>\n",
       "      <th>Call Center</th>\n",
       "      <td>81055004</td>\n",
       "    </tr>\n",
       "    <tr>\n",
       "      <th>Web</th>\n",
       "      <td>62200103</td>\n",
       "    </tr>\n",
       "  </tbody>\n",
       "</table>\n",
       "</div>"
      ],
      "text/plain": [
       "                  income\n",
       "sales_channel           \n",
       "Agent          152490152\n",
       "Branch         113775608\n",
       "Call Center     81055004\n",
       "Web             62200103"
      ]
     },
     "execution_count": 284,
     "metadata": {},
     "output_type": "execute_result"
    }
   ],
   "source": [
    "round(pivot_df_chanels,2)"
   ]
  },
  {
   "cell_type": "markdown",
   "id": "640993b2-a291-436c-a34d-a551144f8196",
   "metadata": {
    "id": "640993b2-a291-436c-a34d-a551144f8196"
   },
   "source": [
    "2. Create a pivot table that shows the average customer lifetime value per gender and education level. Analyze the resulting table to draw insights."
   ]
  },
  {
   "cell_type": "code",
   "execution_count": 286,
   "id": "65e03af6",
   "metadata": {},
   "outputs": [
    {
     "name": "stdout",
     "output_type": "stream",
     "text": [
      "education     Bachelor      College       Doctor  High School or Below  \\\n",
      "gender                                                                   \n",
      "F          7874.269478  7748.823325  7328.508916           8675.220201   \n",
      "M          7703.601675  8052.459288  7415.333638           8149.687783   \n",
      "\n",
      "education       Master  \n",
      "gender                  \n",
      "F          8157.053154  \n",
      "M          8168.832659  \n"
     ]
    }
   ],
   "source": [
    "pivot_clv = pd.pivot_table(\n",
    "    df,\n",
    "    index='gender',\n",
    "    columns='education',\n",
    "    values='customer_lifetime_value',\n",
    "    aggfunc='mean'\n",
    ")\n",
    "\n",
    "print(pivot_clv)"
   ]
  },
  {
   "cell_type": "markdown",
   "id": "32c7f2e5-3d90-43e5-be33-9781b6069198",
   "metadata": {
    "id": "32c7f2e5-3d90-43e5-be33-9781b6069198"
   },
   "source": [
    "## Bonus\n",
    "\n",
    "You work at the customer service department and you want to know which months had the highest number of complaints by policy type category. Create a summary table showing the number of complaints by policy type and month.\n",
    "Show it in a long format table."
   ]
  },
  {
   "cell_type": "markdown",
   "id": "e3d09a8f-953c-448a-a5f8-2e5a8cca7291",
   "metadata": {
    "id": "e3d09a8f-953c-448a-a5f8-2e5a8cca7291"
   },
   "source": [
    "*In data analysis, a long format table is a way of structuring data in which each observation or measurement is stored in a separate row of the table. The key characteristic of a long format table is that each column represents a single variable, and each row represents a single observation of that variable.*\n",
    "\n",
    "*More information about long and wide format tables here: https://www.statology.org/long-vs-wide-data/*"
   ]
  },
  {
   "cell_type": "code",
   "execution_count": 289,
   "id": "3a069e0b-b400-470e-904d-d17582191be4",
   "metadata": {
    "id": "3a069e0b-b400-470e-904d-d17582191be4"
   },
   "outputs": [
    {
     "name": "stdout",
     "output_type": "stream",
     "text": [
      "month                     1            2\n",
      "policy_type                             \n",
      "Corporate Auto   443.434952   385.208135\n",
      "Personal Auto   1727.605722  1453.684441\n",
      "Special Auto      87.074049    95.226817\n"
     ]
    }
   ],
   "source": [
    "# Your code goes here\n",
    "\n",
    "pivot_policy = pd.pivot_table(df, index = 'policy_type', columns = 'month', values= 'number_of_open_complaints', aggfunc= 'sum' )\n",
    "\n",
    "print(pivot_policy)"
   ]
  }
 ],
 "metadata": {
  "colab": {
   "provenance": []
  },
  "kernelspec": {
   "display_name": "base",
   "language": "python",
   "name": "python3"
  },
  "language_info": {
   "codemirror_mode": {
    "name": "ipython",
    "version": 3
   },
   "file_extension": ".py",
   "mimetype": "text/x-python",
   "name": "python",
   "nbconvert_exporter": "python",
   "pygments_lexer": "ipython3",
   "version": "3.12.7"
  }
 },
 "nbformat": 4,
 "nbformat_minor": 5
}
